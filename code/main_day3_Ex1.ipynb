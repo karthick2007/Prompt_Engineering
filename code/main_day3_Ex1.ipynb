{
 "cells": [
  {
   "cell_type": "code",
   "execution_count": 1,
   "metadata": {},
   "outputs": [],
   "source": [
    "from openai import AzureOpenAI\n",
    "import os\n",
    "from IPython.display import  Markdown\n",
    "\n",
    "client = AzureOpenAI(\n",
    "  azure_endpoint = os.environ.get(\"AZURE_OPENAI_ENDPOINT\"), \n",
    "  api_key=os.environ.get(\"OPENAI_KEY\"),\n",
    "  api_version=\"2023-12-01-preview\"\n",
    ")"
   ]
  },
  {
   "cell_type": "code",
   "execution_count": 3,
   "metadata": {},
   "outputs": [],
   "source": [
    "tools = [\n",
    "    {\n",
    "        \"type\": \"function\",\n",
    "        \"function\": {\n",
    "            \"name\": \"get_static_code_analysis\",\n",
    "            \"description\": \"Get static code analysis of given code snippet\",\n",
    "            \"parameters\": {\n",
    "                \"type\": \"object\",\n",
    "                \"properties\": {\n",
    "                    \"code_block\": {\n",
    "                        \"type\": \"string\",\n",
    "                        \"description\": \"Code block which needs analysis\"\n",
    "                    },\n",
    "                    \"suggestions\": {\n",
    "                        \"type\": \"number\", \n",
    "                        \"description\": \"limit the number of results\"\n",
    "                    }\n",
    "                },\n",
    "                \"required\": [\"code_block\"]\n",
    "            }\n",
    "        }\n",
    "    }\n",
    "]"
   ]
  },
  {
   "cell_type": "code",
   "execution_count": 4,
   "metadata": {},
   "outputs": [],
   "source": [
    "def get_completion(client, messages, model=\"gpt-4\", temperature=0, max_tokens=300, tools=None, tool_choice=None):\n",
    "    response = client.chat.completions.create(\n",
    "        model=model,\n",
    "        messages=messages,\n",
    "        temperature=temperature,\n",
    "        max_tokens=max_tokens,\n",
    "        tools=tools,\n",
    "        tool_choice=tool_choice\n",
    "    )\n",
    "    return response.choices[0].message"
   ]
  },
  {
   "cell_type": "code",
   "execution_count": 11,
   "metadata": {},
   "outputs": [],
   "source": [
    "messages = [\n",
    "    {\n",
    "        \"role\": \"user\",\n",
    "        \"content\": \"\"\"\n",
    "        Code analysis for the below block of code , limit to 5 suggestions\n",
    "        def sample_code():\n",
    "          if true:\n",
    "            print(\"enter\")\n",
    "          else:\n",
    "            print(\"exit\") \n",
    "    \n",
    "        \"\"\"\n",
    "    }\n",
    "]"
   ]
  },
  {
   "cell_type": "code",
   "execution_count": 12,
   "metadata": {},
   "outputs": [
    {
     "name": "stdout",
     "output_type": "stream",
     "text": [
      "ChatCompletionMessage(content=None, role='assistant', function_call=None, tool_calls=[ChatCompletionMessageToolCall(id='call_ULK1cHzseGolEAxBAXuLLkhG', function=Function(arguments='{\\n  \"code_block\": \"def sample_code():\\\\n  if true:\\\\n    print(\\\\\"enter\\\\\")\\\\n  else:\\\\n    print(\\\\\"exit\\\\\")\\\\n\",\\n  \"suggestions\": 5\\n}', name='get_static_code_analysis'), type='function')])\n"
     ]
    }
   ],
   "source": [
    "response = get_completion(client, messages, tools=tools)\n",
    "print(response)"
   ]
  },
  {
   "cell_type": "code",
   "execution_count": 17,
   "metadata": {},
   "outputs": [],
   "source": [
    "#sample function\n",
    "def get_static_code_analysis(code_block, suggestions=10):\n",
    "    \"\"\"Get the static code analysis of code block\"\"\"\n",
    "    result = [{\n",
    "        \"line\": 1,\n",
    "        \"suggestion\": \"newline missing \"\n",
    "    },{\n",
    "        \"line\" : 2,\n",
    "        \"suggestion\": \"Unused imports\"\n",
    "    }]\n",
    "\n",
    "    return json.dumps(result)"
   ]
  },
  {
   "cell_type": "code",
   "execution_count": 13,
   "metadata": {},
   "outputs": [
    {
     "data": {
      "text/plain": [
       "ChatCompletionMessage(content='It seems you want to analyze the provided Python code snippet and limit the suggestions to 5. I will use the static code analysis tool to perform this task. Please wait a moment while I process your request.', role='assistant', function_call=None, tool_calls=None)"
      ]
     },
     "execution_count": 13,
     "metadata": {},
     "output_type": "execute_result"
    }
   ],
   "source": [
    "get_completion(client,messages,tools=tools,tool_choice=\"none\")"
   ]
  },
  {
   "cell_type": "code",
   "execution_count": 14,
   "metadata": {},
   "outputs": [
    {
     "data": {
      "text/plain": [
       "ChatCompletionMessage(content=None, role='assistant', function_call=None, tool_calls=[ChatCompletionMessageToolCall(id='call_3P9gmdH3sxSggtINmDvvKxir', function=Function(arguments='{\\n  \"code_block\": \"def sample_code():\\\\n  if true:\\\\n    print(\\\\\"enter\\\\\")\\\\n  else:\\\\n    print(\\\\\"exit\\\\\")\\\\n\",\\n  \"suggestions\": 5\\n}', name='get_static_code_analysis'), type='function')])"
      ]
     },
     "execution_count": 14,
     "metadata": {},
     "output_type": "execute_result"
    }
   ],
   "source": [
    "get_completion(client,messages,tools=tools,tool_choice=\"auto\")"
   ]
  },
  {
   "cell_type": "code",
   "execution_count": 16,
   "metadata": {},
   "outputs": [
    {
     "data": {
      "text/plain": [
       "ChatCompletionMessage(content=None, role='assistant', function_call=None, tool_calls=[ChatCompletionMessageToolCall(id='call_jT1Fst1iyTTWOtFtHLECMDKT', function=Function(arguments='{\\n  \"code_block\": \"def sample_code():\\\\n  if true:\\\\n    print(\\\\\"enter\\\\\")\\\\n  else:\\\\n    print(\\\\\"exit\\\\\")\\\\n\",\\n  \"suggestions\": 5\\n}', name='get_static_code_analysis'), type='function')])"
      ]
     },
     "execution_count": 16,
     "metadata": {},
     "output_type": "execute_result"
    }
   ],
   "source": [
    "get_completion(client,messages,tools=tools,tool_choice={\"type\": \"function\", \"function\": {\"name\": \"get_static_code_analysis\"}})"
   ]
  }
 ],
 "metadata": {
  "kernelspec": {
   "display_name": "Python 3",
   "language": "python",
   "name": "python3"
  },
  "language_info": {
   "codemirror_mode": {
    "name": "ipython",
    "version": 3
   },
   "file_extension": ".py",
   "mimetype": "text/x-python",
   "name": "python",
   "nbconvert_exporter": "python",
   "pygments_lexer": "ipython3",
   "version": "3.12.0 (v3.12.0:0fb18b02c8, Oct  2 2023, 09:45:56) [Clang 13.0.0 (clang-1300.0.29.30)]"
  },
  "orig_nbformat": 4,
  "vscode": {
   "interpreter": {
    "hash": "aee8b7b246df8f9039afb4144a1f6fd8d2ca17a180786b69acc140d282b71a49"
   }
  }
 },
 "nbformat": 4,
 "nbformat_minor": 2
}

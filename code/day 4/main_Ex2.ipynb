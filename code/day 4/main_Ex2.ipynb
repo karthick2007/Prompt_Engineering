{
 "cells": [
  {
   "cell_type": "code",
   "execution_count": 1,
   "metadata": {},
   "outputs": [],
   "source": [
    "from openai import AzureOpenAI\n",
    "import os\n",
    "from IPython.display import  Markdown\n",
    "\n",
    "client = AzureOpenAI(\n",
    "  azure_endpoint = os.environ.get(\"AZURE_OPENAI_ENDPOINT\"), \n",
    "  api_key=os.environ.get(\"OPENAI_KEY\"),\n",
    "  api_version=\"2023-12-01-preview\"\n",
    ")"
   ]
  },
  {
   "cell_type": "code",
   "execution_count": 2,
   "metadata": {},
   "outputs": [],
   "source": [
    "def get_completion(client, messages, model=\"gpt-35-turbo\", temperature=0):\n",
    "    response = client.chat.completions.create(\n",
    "        model=model,\n",
    "        messages=messages,\n",
    "        temperature=temperature\n",
    "    )\n",
    "    return response.choices[0].message"
   ]
  },
  {
   "cell_type": "code",
   "execution_count": 6,
   "metadata": {},
   "outputs": [],
   "source": [
    "prompt = \"\"\"\n",
    " Generate query to fetch Name , address,phone Number from Customer table and  price ,quantity from items table\n",
    " which matches the customer Id\n",
    " Customer Table , column name - CustomerId ,Name , age ,address,phone number\n",
    " Item Table , column name - ItemId , CustomerId, price,quantity\n",
    "\"\"\"\n",
    "\n",
    "messages =[\n",
    "       {\n",
    "        \"role\": \"system\",\n",
    "        \"content\": \"As a SQL code assistance , generate code snippet for usecases requested\"\n",
    "        },\n",
    "    {\n",
    "        \"role\": \"user\",\n",
    "        \"content\": prompt\n",
    "        }]"
   ]
  },
  {
   "cell_type": "code",
   "execution_count": 7,
   "metadata": {},
   "outputs": [],
   "source": [
    "response_text = get_completion(client,messages)"
   ]
  },
  {
   "cell_type": "code",
   "execution_count": 8,
   "metadata": {},
   "outputs": [
    {
     "data": {
      "text/plain": [
       "ChatCompletionMessage(content='Certainly! Below is the SQL query to fetch the required data from the Customer and Item tables based on the CustomerId:\\n\\n```sql\\nSELECT c.Name, c.address, c.phone_number, i.price, i.quantity\\nFROM Customer c\\nJOIN Item i ON c.CustomerId = i.CustomerId\\nWHERE c.CustomerId = <customer_id>;\\n```\\n\\nReplace `<customer_id>` with the actual customer id for which you want to fetch the data. This query will retrieve the Name, address, phone number from the Customer table and price, quantity from the Item table for the specified customer id.', role='assistant', function_call=None, tool_calls=None)"
      ]
     },
     "execution_count": 8,
     "metadata": {},
     "output_type": "execute_result"
    }
   ],
   "source": [
    "response_text"
   ]
  }
 ],
 "metadata": {
  "kernelspec": {
   "display_name": "Python 3",
   "language": "python",
   "name": "python3"
  },
  "language_info": {
   "codemirror_mode": {
    "name": "ipython",
    "version": 3
   },
   "file_extension": ".py",
   "mimetype": "text/x-python",
   "name": "python",
   "nbconvert_exporter": "python",
   "pygments_lexer": "ipython3",
   "version": "3.12.0"
  },
  "orig_nbformat": 4,
  "vscode": {
   "interpreter": {
    "hash": "aee8b7b246df8f9039afb4144a1f6fd8d2ca17a180786b69acc140d282b71a49"
   }
  }
 },
 "nbformat": 4,
 "nbformat_minor": 2
}

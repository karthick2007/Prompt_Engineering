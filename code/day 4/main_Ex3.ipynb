{
 "cells": [
  {
   "cell_type": "code",
   "execution_count": 2,
   "metadata": {},
   "outputs": [],
   "source": [
    "from openai import AzureOpenAI\n",
    "import os\n",
    "from IPython.display import  Markdown\n",
    "\n",
    "client = AzureOpenAI(\n",
    "  azure_endpoint = os.environ.get(\"AZURE_OPENAI_ENDPOINT\"), \n",
    "  api_key=os.environ.get(\"OPENAI_KEY\"),\n",
    "  api_version=\"2023-12-01-preview\"\n",
    ")"
   ]
  },
  {
   "cell_type": "code",
   "execution_count": 3,
   "metadata": {},
   "outputs": [],
   "source": [
    "def get_completion(client, messages, model=\"gpt-35-turbo\", temperature=0):\n",
    "    response = client.chat.completions.create(\n",
    "        model=model,\n",
    "        messages=messages,\n",
    "        temperature=temperature\n",
    "    )\n",
    "    return response.choices[0].message"
   ]
  },
  {
   "cell_type": "code",
   "execution_count": 4,
   "metadata": {},
   "outputs": [],
   "source": [
    "prompt = \"\"\"\n",
    "Draw a rolls royce\n",
    "\"\"\"\n",
    "\n",
    "messages =[\n",
    "       {\n",
    "        \"role\": \"system\",\n",
    "        \"content\": \"As an Art assistant , generate diagram in TikZ\"\n",
    "        },\n",
    "    {\n",
    "        \"role\": \"user\",\n",
    "        \"content\": prompt\n",
    "        }]"
   ]
  },
  {
   "cell_type": "code",
   "execution_count": 5,
   "metadata": {},
   "outputs": [],
   "source": [
    "response_text = get_completion(client,messages)"
   ]
  },
  {
   "cell_type": "code",
   "execution_count": 6,
   "metadata": {},
   "outputs": [
    {
     "data": {
      "text/plain": [
       "ChatCompletionMessage(content=\"Creating a detailed illustration of a Rolls Royce or any other complex object is quite challenging and beyond the scope of TikZ's intended use. TikZ is a LaTeX package that excels at creating mathematical and simple diagrams. However, I can provide you with a simple representation of a car that you can use as a starting point. You can then modify it to add more details that are characteristic of a Rolls Royce.\\n\\nHere's a basic example of a car in TikZ:\\n\\n```latex\\n\\\\documentclass[tikz,border=10pt]{standalone}\\n\\\\usetikzlibrary{shapes.geometric}\\n\\n\\\\begin{document}\\n\\\\begin{tikzpicture}[scale=0.75,transform shape]\\n\\n% Car body\\n\\\\draw[fill=gray!60!white] (0,0) -- (1,0) -- (1.5,0.5) -- (4.5,0.5) -- (5,0) -- (6,0) -- (6,0.75) -- (5.5,1.25) -- (0.5,1.25) -- (0,0.75) -- cycle;\\n\\n% Windows\\n\\\\draw[fill=white] (1.75,0.75) rectangle (2.75,1.1);\\n\\\\draw[fill=white] (3.25,0.75) rectangle (4.25,1.1);\\n\\n% Wheels\\n\\\\draw[fill=black] (1.5,0) circle (0.5);\\n\\\\draw[fill=black] (4.5,0) circle (0.5);\\n\\n\\\\end{tikzpicture}\\n\\\\end{document}\\n```\\n\\nThis code will produce a simple car shape with a body, windows, and wheels. To make it look more like a Rolls Royce, you would need to add specific details such as the iconic grille, the Spirit of Ecstasy ornament, and the distinctive body shape. However, this would require a lot of custom work and artistic skill in TikZ, which is typically not used for such detailed illustrations.\\n\\nIf you're looking to create a detailed illustration of a Rolls Royce, you might want to consider using a vector graphics editor like Adobe Illustrator or Inkscape, which are better suited for this kind of work. TikZ is more appropriate for diagrams, charts, and simpler shapes.\", role='assistant', function_call=None, tool_calls=None)"
      ]
     },
     "execution_count": 6,
     "metadata": {},
     "output_type": "execute_result"
    }
   ],
   "source": [
    "response_text"
   ]
  },
  {
   "cell_type": "code",
   "execution_count": 8,
   "metadata": {},
   "outputs": [
    {
     "data": {
      "text/markdown": [
       "Creating a detailed illustration of a Rolls Royce or any other complex object is quite challenging and beyond the scope of TikZ's intended use. TikZ is a LaTeX package that excels at creating mathematical and simple diagrams. However, I can provide you with a simple representation of a car that you can use as a starting point. You can then modify it to add more details that are characteristic of a Rolls Royce.\n",
       "\n",
       "Here's a basic example of a car in TikZ:\n",
       "\n",
       "```latex\n",
       "\\documentclass[tikz,border=10pt]{standalone}\n",
       "\\usetikzlibrary{shapes.geometric}\n",
       "\n",
       "\\begin{document}\n",
       "\\begin{tikzpicture}[scale=0.75,transform shape]\n",
       "\n",
       "% Car body\n",
       "\\draw[fill=gray!60!white] (0,0) -- (1,0) -- (1.5,0.5) -- (4.5,0.5) -- (5,0) -- (6,0) -- (6,0.75) -- (5.5,1.25) -- (0.5,1.25) -- (0,0.75) -- cycle;\n",
       "\n",
       "% Windows\n",
       "\\draw[fill=white] (1.75,0.75) rectangle (2.75,1.1);\n",
       "\\draw[fill=white] (3.25,0.75) rectangle (4.25,1.1);\n",
       "\n",
       "% Wheels\n",
       "\\draw[fill=black] (1.5,0) circle (0.5);\n",
       "\\draw[fill=black] (4.5,0) circle (0.5);\n",
       "\n",
       "\\end{tikzpicture}\n",
       "\\end{document}\n",
       "```\n",
       "\n",
       "This code will produce a simple car shape with a body, windows, and wheels. To make it look more like a Rolls Royce, you would need to add specific details such as the iconic grille, the Spirit of Ecstasy ornament, and the distinctive body shape. However, this would require a lot of custom work and artistic skill in TikZ, which is typically not used for such detailed illustrations.\n",
       "\n",
       "If you're looking to create a detailed illustration of a Rolls Royce, you might want to consider using a vector graphics editor like Adobe Illustrator or Inkscape, which are better suited for this kind of work. TikZ is more appropriate for diagrams, charts, and simpler shapes."
      ],
      "text/plain": [
       "<IPython.core.display.Markdown object>"
      ]
     },
     "execution_count": 8,
     "metadata": {},
     "output_type": "execute_result"
    }
   ],
   "source": [
    "Markdown(response_text.content)"
   ]
  }
 ],
 "metadata": {
  "kernelspec": {
   "display_name": "Python 3",
   "language": "python",
   "name": "python3"
  },
  "language_info": {
   "codemirror_mode": {
    "name": "ipython",
    "version": 3
   },
   "file_extension": ".py",
   "mimetype": "text/x-python",
   "name": "python",
   "nbconvert_exporter": "python",
   "pygments_lexer": "ipython3",
   "version": "3.12.0"
  },
  "orig_nbformat": 4,
  "vscode": {
   "interpreter": {
    "hash": "aee8b7b246df8f9039afb4144a1f6fd8d2ca17a180786b69acc140d282b71a49"
   }
  }
 },
 "nbformat": 4,
 "nbformat_minor": 2
}

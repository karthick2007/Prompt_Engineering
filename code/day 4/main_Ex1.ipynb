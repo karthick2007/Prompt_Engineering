{
 "cells": [
  {
   "cell_type": "code",
   "execution_count": 1,
   "metadata": {},
   "outputs": [],
   "source": [
    "from openai import AzureOpenAI\n",
    "import os\n",
    "from IPython.display import  Markdown\n",
    "\n",
    "client = AzureOpenAI(\n",
    "  azure_endpoint = os.environ.get(\"AZURE_OPENAI_ENDPOINT\"), \n",
    "  api_key=os.environ.get(\"OPENAI_KEY\"),\n",
    "  api_version=\"2023-12-01-preview\"\n",
    ")"
   ]
  },
  {
   "cell_type": "code",
   "execution_count": 2,
   "metadata": {},
   "outputs": [],
   "source": [
    "def get_completion(client, messages, model=\"gpt-4\", temperature=0):\n",
    "    response = client.chat.completions.create(\n",
    "        model=model,\n",
    "        messages=messages,\n",
    "        temperature=temperature\n",
    "    )\n",
    "    return response.choices[0].message"
   ]
  },
  {
   "cell_type": "code",
   "execution_count": 6,
   "metadata": {},
   "outputs": [],
   "source": [
    "prompt = \"\"\"\n",
    " Generate code snippet for sorting array with numeric elements\n",
    " Throw error if the element is having alpha numeric \n",
    "\"\"\"\n",
    "\n",
    "messages =[\n",
    "       {\n",
    "        \"role\": \"system\",\n",
    "        \"content\": \"As a python code assistance , generate code snippet for usecases requested\"\n",
    "        },\n",
    "    {\n",
    "        \"role\": \"user\",\n",
    "        \"content\": prompt\n",
    "        }]"
   ]
  },
  {
   "cell_type": "code",
   "execution_count": 7,
   "metadata": {},
   "outputs": [],
   "source": [
    "response_text = get_completion(client,messages)"
   ]
  },
  {
   "cell_type": "code",
   "execution_count": 8,
   "metadata": {},
   "outputs": [
    {
     "data": {
      "text/plain": [
       "ChatCompletionMessage(content='Certainly! Below is a Python code snippet that sorts an array with numeric elements and raises an error if any element is alphanumeric:\\n\\n```python\\ndef sort_numeric_array(arr):\\n    # Check if all elements are numeric\\n    if not all(isinstance(item, (int, float)) for item in arr):\\n        raise ValueError(\"Array contains non-numeric elements.\")\\n    \\n    # Sort the array\\n    sorted_arr = sorted(arr)\\n    return sorted_arr\\n\\n# Example usage\\ntry:\\n    numeric_array = [3, 1, 4, 1, 5, 9, 2, 6, 5, 3, 5]\\n    sorted_array = sort_numeric_array(numeric_array)\\n    print(\"Sorted Array:\", sorted_array)\\nexcept ValueError as e:\\n    print(\"Error:\", e)\\n\\n# Example with an alphanumeric element\\ntry:\\n    alphanumeric_array = [3, 1, \\'a\\', 5, 9, 2, 6, 5, 3, 5]\\n    sort_numeric_array(alphanumeric_array)\\nexcept ValueError as e:\\n    print(\"Error:\", e)\\n```\\n\\nIn this code snippet, the `sort_numeric_array` function first checks if all elements in the input array `arr` are numeric (either integers or floats). If any element is not numeric, it raises a `ValueError`. If all elements are numeric, it sorts the array using the built-in `sorted` function and returns the sorted array.\\n\\nThe example usage demonstrates how to call the function with a numeric array and an alphanumeric array. The latter will trigger the error handling and print an error message.', role='assistant', function_call=None, tool_calls=None)"
      ]
     },
     "execution_count": 8,
     "metadata": {},
     "output_type": "execute_result"
    }
   ],
   "source": [
    "response_text"
   ]
  }
 ],
 "metadata": {
  "kernelspec": {
   "display_name": "Python 3",
   "language": "python",
   "name": "python3"
  },
  "language_info": {
   "codemirror_mode": {
    "name": "ipython",
    "version": 3
   },
   "file_extension": ".py",
   "mimetype": "text/x-python",
   "name": "python",
   "nbconvert_exporter": "python",
   "pygments_lexer": "ipython3",
   "version": "3.12.0"
  },
  "orig_nbformat": 4,
  "vscode": {
   "interpreter": {
    "hash": "aee8b7b246df8f9039afb4144a1f6fd8d2ca17a180786b69acc140d282b71a49"
   }
  }
 },
 "nbformat": 4,
 "nbformat_minor": 2
}

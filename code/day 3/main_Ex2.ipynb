{
 "cells": [
  {
   "cell_type": "code",
   "execution_count": 2,
   "metadata": {},
   "outputs": [],
   "source": [
    "from openai import AzureOpenAI\n",
    "import os\n",
    "from IPython.display import  Markdown\n",
    "\n",
    "client = AzureOpenAI(\n",
    "  azure_endpoint = os.environ.get(\"AZURE_OPENAI_ENDPOINT\"), \n",
    "  api_key=os.environ.get(\"OPENAI_KEY\"),\n",
    "  api_version=\"2023-12-01-preview\"\n",
    ")"
   ]
  },
  {
   "cell_type": "code",
   "execution_count": 17,
   "metadata": {},
   "outputs": [],
   "source": [
    "def get_completion(client, messages, model=\"gpt-4\", temperature=0):\n",
    "    response = client.chat.completions.create(\n",
    "        model=model,\n",
    "        messages=messages,\n",
    "        temperature=temperature\n",
    "    )\n",
    "    return response.choices[0].message"
   ]
  },
  {
   "cell_type": "code",
   "execution_count": null,
   "metadata": {},
   "outputs": [],
   "source": [
    "\n",
    "messages =[\n",
    "    {\n",
    "    \"role\": \"user\", \n",
    "     \"content\": \"\"\"\n",
    "Generate 5 coding problems for coding interview questions .Please \n",
    "provide content in the below format\n",
    "Problem: <explain problem>\n",
    "Difficulty level : <easy,medium,hard>\n",
    "Area: <array, binary tree, String manipulation,Recursion>\n",
    "Solution : <provide solution in python>\n",
    "\n",
    "\"\"\"\n",
    "    }]\n",
    "\n"
   ]
  },
  {
   "cell_type": "code",
   "execution_count": 54,
   "metadata": {},
   "outputs": [],
   "source": [
    "response_text = get_completion(client,messages)"
   ]
  },
  {
   "cell_type": "code",
   "execution_count": 55,
   "metadata": {},
   "outputs": [
    {
     "data": {
      "text/plain": [
       "'```json\\n[\\n    {\\n        \"Problem\": \"Given an array of integers, return indices of the two numbers such that they add up to a specific target.\",\\n        \"Difficulty level\": \"Easy\",\\n        \"Area\": \"Array\",\\n        \"Solution\": \"def two_sum(nums, target):\\\\n    lookup = {}\\\\n    for i, num in enumerate(nums):\\\\n        if target - num in lookup:\\\\n            return [lookup[target - num], i]\\\\n        lookup[num] = i\\\\n    return []\"\\n    },\\n    {\\n        \"Problem\": \"Write a function to check if a given binary tree is a valid binary search tree (BST).\",\\n        \"Difficulty level\": \"Medium\",\\n        \"Area\": \"Binary Tree\",\\n        \"Solution\": \"def is_valid_bst(root, left=float(\\'-inf\\'), right=float(\\'inf\\')):\\\\n    if not root:\\\\n        return True\\\\n    if not (left < root.val < right):\\\\n        return False\\\\n    return (is_valid_bst(root.left, left, root.val) and\\\\n            is_valid_bst(root.right, root.val, right))\"\\n    },\\n    {\\n        \"Problem\": \"Given a string, find the length of the longest substring without repeating characters.\",\\n        \"Difficulty level\": \"Medium\",\\n        \"Area\": \"String manipulation\",\\n        \"Solution\": \"def length_of_longest_substring(s):\\\\n    char_map = {}\\\\n    longest = start = 0\\\\n    for i, char in enumerate(s):\\\\n        if char in char_map and start <= char_map[char]:\\\\n            start = char_map[char] + 1\\\\n        else:\\\\n            longest = max(longest, i - start + 1)\\\\n        char_map[char] = i\\\\n    return longest\"\\n    },\\n    {\\n        \"Problem\": \"Write a function that takes an unsigned integer and returns the number of \\'1\\' bits it has (also known as the Hamming weight).\",\\n        \"Difficulty level\": \"Easy\",\\n        \"Area\": \"Bit Manipulation\",\\n        \"Solution\": \"def hamming_weight(n):\\\\n    count = 0\\\\n    while n:\\\\n        n &= n - 1\\\\n        count += 1\\\\n    return count\"\\n    },\\n    {\\n        \"Problem\": \"Given a collection of candidate numbers (candidates) and a target number (target), find all unique combinations in candidates where the candidate numbers sum to target.\",\\n        \"Difficulty level\": \"Hard\",\\n        \"Area\": \"Recursion\",\\n        \"Solution\": \"def combination_sum(candidates, target):\\\\n    def backtrack(start, end, temp, target):\\\\n        if target == 0:\\\\n            result.append(list(temp))\\\\n            return\\\\n        for i in range(start, end):\\\\n            if candidates[i] > target:\\\\n                continue\\\\n            temp.append(candidates[i])\\\\n            backtrack(i, end, temp, target - candidates[i])\\\\n            temp.pop()\\\\n    result = []\\\\n    candidates.sort()\\\\n    backtrack(0, len(candidates), [], target)\\\\n    return result\"\\n    }\\n]\\n```'"
      ]
     },
     "execution_count": 55,
     "metadata": {},
     "output_type": "execute_result"
    }
   ],
   "source": [
    "response_text.content"
   ]
  },
  {
   "cell_type": "code",
   "execution_count": 56,
   "metadata": {},
   "outputs": [],
   "source": [
    "# Retreive a subset of values from the previous chat results\n",
    "\n",
    "messages =[\n",
    "    {\n",
    "    \"role\": \"user\", \n",
    "    \"content\" : f\"Retreive only easy problems from the {response_text.content} list and display the problem name \\nProblem : <problem name> \\ndifficulty level : <easy>\"\n",
    "\n",
    "    }]\n",
    "\n",
    "response_text1 = get_completion(client,messages)"
   ]
  },
  {
   "cell_type": "code",
   "execution_count": 57,
   "metadata": {},
   "outputs": [
    {
     "data": {
      "text/plain": [
       "\"Problem: Given an array of integers, return indices of the two numbers such that they add up to a specific target.\\nDifficulty level: Easy\\n\\nProblem: Write a function that takes an unsigned integer and returns the number of '1' bits it has (also known as the Hamming weight).\\nDifficulty level: Easy\""
      ]
     },
     "execution_count": 57,
     "metadata": {},
     "output_type": "execute_result"
    }
   ],
   "source": [
    "response_text1.content"
   ]
  }
 ],
 "metadata": {
  "kernelspec": {
   "display_name": "Python 3",
   "language": "python",
   "name": "python3"
  },
  "language_info": {
   "codemirror_mode": {
    "name": "ipython",
    "version": 3
   },
   "file_extension": ".py",
   "mimetype": "text/x-python",
   "name": "python",
   "nbconvert_exporter": "python",
   "pygments_lexer": "ipython3",
   "version": "3.12.0 (v3.12.0:0fb18b02c8, Oct  2 2023, 09:45:56) [Clang 13.0.0 (clang-1300.0.29.30)]"
  },
  "orig_nbformat": 4,
  "vscode": {
   "interpreter": {
    "hash": "aee8b7b246df8f9039afb4144a1f6fd8d2ca17a180786b69acc140d282b71a49"
   }
  }
 },
 "nbformat": 4,
 "nbformat_minor": 2
}

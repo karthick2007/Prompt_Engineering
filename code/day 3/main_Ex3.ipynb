{
 "cells": [
  {
   "cell_type": "code",
   "execution_count": null,
   "metadata": {},
   "outputs": [],
   "source": [
    "pip install pypdf"
   ]
  },
  {
   "cell_type": "code",
   "execution_count": null,
   "metadata": {},
   "outputs": [],
   "source": [
    "from openai import AzureOpenAI\n",
    "import os\n",
    "from IPython.display import  Markdown\n",
    "\n",
    "client = AzureOpenAI(\n",
    "  azure_endpoint = os.environ.get(\"AZURE_OPENAI_ENDPOINT\"), \n",
    "  api_key=os.environ.get(\"OPENAI_KEY\"),\n",
    "  api_version=\"2023-12-01-preview\"\n",
    ")"
   ]
  },
  {
   "cell_type": "code",
   "execution_count": null,
   "metadata": {},
   "outputs": [],
   "source": [
    "from langchain.chains import RetrievalQA\n",
    "from langchain.chat_models import AzureChatOpenAI\n",
    "from langchain.document_loaders import TextLoader,PyPDFLoader\n",
    "from langchain.vectorstores import DocArrayInMemorySearch\n",
    "from IPython.display import display, Markdown\n",
    "from langchain.text_splitter import CharacterTextSplitter\n",
    "from langchain.embeddings import OpenAIEmbeddings, HuggingFaceInstructEmbeddings, AzureOpenAIEmbeddings\n",
    "from langchain.vectorstores import FAISS\n",
    "from langchain.memory import ConversationBufferMemory\n",
    "from langchain.chains import ConversationalRetrievalChain\n",
    "from langchain.indexes import VectorstoreIndexCreator\n",
    "from langchain_experimental.agents.agent_toolkits.csv.base import create_csv_agent\n",
    "from langchain.agents.agent_types import AgentType\n",
    "from langchain.memory import ConversationBufferMemory\n"
   ]
  },
  {
   "cell_type": "code",
   "execution_count": 37,
   "metadata": {},
   "outputs": [],
   "source": [
    "txt_file_path = '../docs/Phone-List-Schools.pdf'\n",
    "loader = PyPDFLoader(file_path=txt_file_path)\n",
    "data = loader.load()"
   ]
  },
  {
   "cell_type": "code",
   "execution_count": 38,
   "metadata": {},
   "outputs": [
    {
     "data": {
      "text/plain": [
       "[Document(page_content=' \\n \\n \\n  \\n \\n                      \\n                                 \\n \\n                                  \\n \\n \\n \\n Lake Washington School District \\nDelivery:  16250 NE 74th Street, Redmond 98052  Mail:  PO Box 97039, Redmond WA  98073-9739\\n \\nElementary Schools Phone # Elementary Schools Phone # \\nAlcott\\t 4213 - 228th Avenue NE, Redmond 98053 936-2490\\n \\nP: Jon Hedin OM: Carolina Borrego                              \\nAP: Barbara Deming \\nAudubon\\t 3045 - 180th Avenue NE, Redmond 98052 936-2500\\n P: Kimo Spray  OM: Joan Livesey\\n AP: Ian Maver\\n \\nBell \\t 11212 NE 112th Street, Kirkland 98033 936-2510\\n \\nP: Heidi Paul OM: Maddy Sanders \\nPreschool AP: Anne Balicki \\nBlackwell\\t 3225 - 205th Place NE, Sammamish 98074 936-2520\\n P: Jim Eaton OM: Linda Kramer                                    \\nAP: Angela Morrison\\n \\nCarson\\t 1035 244th Avenue NE, Sammamish 98074  936-2750\\n P: Scott Power OM: Julie Henderson                                             \\nPreschool AP: Angela Morrison\\nCommunity\\t 11133 NE 65th Street, Kirkland 98033                    936-2395\\n \\nP: Margaret Kinney  OM: Michele Aiken-Dunn \\nDickinson\\t 7040 - 208th Avenue NE, Redmond 98053 936-2530\\n P: Karen Barker OM: Sue Carter                               \\nPreschool AP: Melissa Doering \\nDiscovery 12801 - 84th Avenue NE, Kirkland 98034 936-2704\\n \\nat Sandburg P: Lori Pierce OM: Janet Zins\\n \\nEinstein\\t 18025 NE 116th Street, Redmond 98052 936-2540\\n \\nP: Robin Imai OM: Mame Mulherron                           \\nAP: Leslie Elmer \\nExplorer 7040 - 208th Avenue NE, Redmond 98053 936-2533\\n \\nat P: Karen Barker OM: Sue Carter\\n \\nDickinson AP: Melissa Doering\\nFranklin\\t 12434 NE 60th Street, Kirkland 98033 936-2550\\n \\nP: Jimmy Cho  OM: Lori Neumann\\n AP: Ryan Scott\\n \\nFrost \\t 11801 NE 140th Street, Kirkland 98034                        936-2560\\n \\nP: Toby Brenner OM: Liz Kauhane\\n AP: Ric Baileykaze\\n \\nJuanita\\t 9635 NE 132nd Street, Kirkland 98034 936-2570\\n \\nP: Dana Stairs OM: Margaret Benecke \\nPreschool AP: Holly Appelgate \\nKeller\\t 13820 - 108th Avenue NE, Kirkland 98034 936-2580\\n \\nP: Sandy Dennehy OM: Lorraine VanKomen          \\nAP: Holly Appelgate \\nKirk \\t 1312 - 6th Street, Kirkland 98033 936-2590\\n \\nP: Monica Garcia OM: Brenda Nunn AP: Ian Maver \\nLakeview\\t 10400 NE 68th Street, Kirkland 98033 936-2600\\n \\nP: Heather Frazier OM: Debus Frey \\nAP: Trent NeugebauerMann\\t 17001 NE 104th Street, Redmond 98052 936-2610\\n \\nP: Megan Spaulding OM: Sue Nauman                      \\nAP: Charles Jamieson \\nMcAuliffe\\t 23823 NE 22nd Street, Sammamish 98074 936-2620\\n \\nP: Brady Howden OM: Lisa Lovin                             \\nAP: Kari Weed\\n \\nMead\\t 1725 - 216th Avenue NE, 936-2630\\n \\nSammamish 98074\\n P: Sandy Klein OM: Sharon Ward\\n \\nAP: Kari Weed\\n \\nMuir\\t 14012 - 132nd Avenue NE, Kirkland 98034  936-2640\\n \\nP: Jeff DeGallier OM: Deb Tipple \\nPreschool AP: Ric Baileykaze\\nRedmond\\t 16800 NE 80th Street, Redmond 98052 936-2660\\n \\nP: Kirsten Gometz OM: Megan Fischer                        \\nAP: Taylor Davis \\nRockwell\\t 11125 - 162nd Avenue NE, 936-2670\\n \\nRedmond 98052 \\nP: Michael Clark OM: Julie Wulf                           \\nAP: Ryan Scott\\nRosa Parks\\t 22845 NE Cedar Park Crescent, 936-2650\\n \\nRedmond 98053\\n P: Kim Bilanko OM: Michelle Lewis                                \\nAP: Leslie Elmer \\nRose Hill\\t 8110 - 128th Avenue NE, Kirkland 98033 936-2680 \\nP: Jennifer Hodges OM: Melody Kieffer                        \\nAP: Trent Neugebauer \\nRush \\t 6101 - 152nd Avenue NE, Redmond 98052 936-2690\\n P: Lucy Davies OM: Debi Miller                                   \\nPreschool AP: Leslie Kyle \\nSandburg\\t 12801 - 84th Avenue NE, Kirkland 98034 936-2700\\n \\nP: Lori Pierce OM: Sandi Hill \\nPreschool AP: Nate Litke \\nSmith\\t 23305 NE 14th Street, Sammamish 98074 936-2710\\n \\nP: Jamie Warner  OM: Gary Wilson\\n AP: Rebekah Westra\\n \\nThoreau\\t 8224 NE 138th Street, Kirkland 98034 936-2720\\n \\nP: Keriann Levinson OM: Kim Lucas                            \\nAP: Nate Litke \\nTwain\\t 9525 - 130th Avenue NE, Kirkland 98033 936-2730\\n \\nP: Craig Mott OM: Teresa Muro                                     \\nAP: Malia Goodfellow\\n \\nWilder\\t 22130 NE 133rd Street, Woodinville 98077 936-2740\\n \\nP: Steve Roetcisoender OM: Beth Powell                       \\nAP: Charles Jamieson \\n09/17 ', metadata={'source': '../docs/Phone-List-Schools.pdf', 'page': 0}),\n",
       " Document(page_content=\"    \\n               \\n  \\n \\n  \\n  \\n \\n                               \\n \\n \\n  \\n \\n   Lake Washington School District \\nDelivery:  16250 NE 74th Street, Redmond 98052  Mail:  PO Box 97039, Redmond WA  98073-9739 \\nMiddle Schools  Phone # High Schools Phone # \\nEnvironmental 8040 NE 132nd Street, Kirkland 98034 936-2355 Eastlake 400 228th Ave NE, Sammamish 98074 936-1500 \\nat FHMS P: Victor Scarpelli P: Chris Bede OM: Lori Rowe \\nOM: Colleen McLaughlin AP: Todd Apple AP: Darcie Breynaert \\nEvergreen 6900 208th Avenue NE, Redmond 936-2320 AP: Catherine Fredenburg \\n98053 Emerson 10903 NE 53rd Street, Kirkland 98033 936-2300 \\nP: Robert Johnson OM: Felicia Casolary  P: Nell Ballard-Jones OM: Mary Osness           \\nAP: Stu Prince AP: Katy RudolphFutures 10601 NE 132nd Street, Kirkland 936-1635 \\nFinn Hill 8040 NE 132nd Street, Kirkland 98034 936-2340 School 98034 \\nP: Victor Scarpelli OM: Gloria Doss                             at JHS P: Kelly Clapp OM: Lynn Lawrence \\nAP: Dana Greenberg \\nInglewood 24120 NE 8th Street, Sammamish 936-2360 International 11133 NE 65th Street, Kirkland  98033 936-2380 \\n98074 P: Margaret Kinney  OM: Mamoona Zia \\nP: Tim Patterson OM: Becky Whelchel  \\nAP: Mark Blomquist AP: Kristian Dahl Juanita 10601 NE 132nd Street, Kirkland 936-1600 \\nInternational 11133 NE 65th Street, Kirkland  936-2380 98034 \\n98033 P: Kelly Clapp OM: Alice Wheeler                   \\nP: Margaret Kinney  OM: Mamoona Zia AP: Joe Gorder  AP: Christine McMillan \\nKamiakin 14111 - 132nd Avenue NE, Kirkland 936-2400 AP: Erik Weiss \\n98033 Lake 12033 NE 80th Street, Kirkland 98033 936-1700 \\nP: Joe Joss OM: Wendy McCrain                              Washington P: Christina Thomas OM: Kelly Wilkinson                                                    \\nAP: Danielle Warman AP: Kia duNann  AP Lloyd Higgins \\nKirkland 430 - 18th Avenue, Kirkland 98033 936-2420 AP: Brian Story \\nP: Deborah McCarson Redmond 17272 NE 104th Street, Redmond  936-1800 \\nOM: Betty-Ann Ray AP: Julie Dixon 98052 \\nNorthstar at Emerson 10903 NE 53rd Street, Kirkland 98033 P: Nell Ballard-Jones 936-2390 P: Jane Todd OM: Melanie Williams                                                       AP: Andrew Hosford \\nOM: Harriet Peterson AP: Lindsay Schilaty AP: Jill VanderVeer\\nRedmond 10055 - 166th Avenue NE, Redmond \\n98052 936-2440 Tesla STEM 4301 228th Ave NE , Redmond 98053 \\nP: Cindy Duenas OM: Danielle O'Brien  936-2770 \\nP: Jon Young OM: Carol Underwood                          \\nAP: Karen Belshaw AP: Drew Williams \\nRenaissance 400 228th Avenue NE, Sammamish 936-1544 Emerson K-12 10903 NE 53rd Street, Kirkland 98033 936-2311 \\nat EHS \\nRose Hill 98074 \\nP: Chris Bede OM: Sara Simmons                          \\n13505 NE 75th Street, Redmond 936-2460 18-21 \\nTransition P: Nell Ballard-Jones OM: Healy Landis \\nTransition Academy - Redmond 16315 NE 87th ST, Suite B-1,  861-3452 \\n98052 Services Redmond 98052 \\nP: Erin Bowser OM: Jodi Seitz                                 Administrator: Jan Bakken \\nAP: Michael Grif ﬁn AP: Leslie Kyle Lead Teacher: Taylor Phu \\nStella Schola 13505 NE 75th Street, Redmond  936-2475 \\nat RHMS 98052 Transition Academy - Kirkland 936-2400 \\nP: Erin Bowser OM: Martha Rames           at Kamiakin Middle School ext.54437 \\n14111 -- 132nd Ave NE, Kirkland 98034 \\nAdministrator: Jan Bakken Lead Teacher: Mark Tornquist\\nWANIC 11605 132nd Ave NE A108 Street, 739-8400 \\nKirkland 98034 D: Karen Hay \\nOM: Jana Robertson \\nOM: Nikki Meredith \\nAS: Nichole Swanger Other Programs Phone # \\n09/17 \", metadata={'source': '../docs/Phone-List-Schools.pdf', 'page': 1})]"
      ]
     },
     "execution_count": 38,
     "metadata": {},
     "output_type": "execute_result"
    }
   ],
   "source": [
    "data"
   ]
  },
  {
   "cell_type": "code",
   "execution_count": null,
   "metadata": {},
   "outputs": [],
   "source": [
    "text_splitter = CharacterTextSplitter(chunk_size=1000, chunk_overlap=200)\n",
    "data = text_splitter.split_documents(data)"
   ]
  },
  {
   "cell_type": "code",
   "execution_count": null,
   "metadata": {},
   "outputs": [],
   "source": [
    "embeddings = AzureOpenAIEmbeddings(api_key=os.environ.get(\"OPENAI_KEY\") ,api_version= \"2023-12-01-preview\",azure_endpoint=os.environ.get(\"AZURE_OPENAI_ENDPOINT\"),azure_deployment=\"text-embedding-ada-002\")"
   ]
  },
  {
   "cell_type": "code",
   "execution_count": null,
   "metadata": {},
   "outputs": [],
   "source": [
    "vectorstore = FAISS.from_documents(data, embedding=embeddings)"
   ]
  },
  {
   "cell_type": "code",
   "execution_count": null,
   "metadata": {},
   "outputs": [],
   "source": [
    "llm = AzureChatOpenAI(model=\"gpt-4\",api_key=os.environ.get(\"OPENAI_KEY\") ,api_version= \"2023-12-01-preview\",azure_endpoint=os.environ.get(\"AZURE_OPENAI_ENDPOINT\"))"
   ]
  },
  {
   "cell_type": "code",
   "execution_count": null,
   "metadata": {},
   "outputs": [],
   "source": [
    "memory = ConversationBufferMemory(memory_key='chat_history', return_messages=True)"
   ]
  },
  {
   "cell_type": "code",
   "execution_count": null,
   "metadata": {},
   "outputs": [],
   "source": [
    "conversation_chain = ConversationalRetrievalChain.from_llm(\n",
    "    llm=llm,\n",
    "    chain_type=\"stuff\",\n",
    "    retriever=vectorstore.as_retriever(),\n",
    "    memory=memory\n",
    ")"
   ]
  },
  {
   "cell_type": "code",
   "execution_count": 35,
   "metadata": {},
   "outputs": [
    {
     "data": {
      "text/markdown": [
       "Here are the locations and phone numbers of the schools in Redmond within the Lake Washington School District:\n",
       "\n",
       "**Elementary Schools:**\n",
       "\n",
       "- Alcott\n",
       "  4213 - 228th Avenue NE, Redmond 98053\n",
       "  Phone: 936-2490\n",
       "  \n",
       "- Audubon\n",
       "  3045 - 180th Avenue NE, Redmond 98052\n",
       "  Phone: 936-2500\n",
       "\n",
       "- Dickinson / Explorer (The address is for Dickinson, which houses Explorer)\n",
       "  7040 - 208th Avenue NE, Redmond 98053\n",
       "  Phone for Dickinson: 936-2530\n",
       "  Phone for Explorer: 936-2533\n",
       "  \n",
       "- Einstein\n",
       "  18025 NE 116th Street, Redmond 98052\n",
       "  Phone: 936-2540\n",
       "  \n",
       "- Mann\n",
       "  17001 NE 104th Street, Redmond 98052\n",
       "  Phone: 936-2610\n",
       "  \n",
       "- Redmond\n",
       "  16800 NE 80th Street, Redmond 98052\n",
       "  Phone: 936-2660\n",
       "  \n",
       "- Rockwell\n",
       "  11125 - 162nd Avenue NE, Redmond 98052\n",
       "  Phone: 936-2670\n",
       "  \n",
       "- Rosa Parks\n",
       "  22845 NE Cedar Park Crescent, Redmond 98053\n",
       "  Phone: 936-2650\n",
       "  \n",
       "- Rush\n",
       "  6101 - 152nd Avenue NE, Redmond 98052\n",
       "  Phone: 936-2690\n",
       "\n",
       "**Middle Schools:**\n",
       "\n",
       "- Evergreen\n",
       "  6900 208th Avenue NE, Redmond 98053\n",
       "  Phone: 936-2320\n",
       "  \n",
       "- Redmond\n",
       "  10055 - 166th Avenue NE, Redmond 98052\n",
       "  Phone: 936-2440\n",
       "\n",
       "**High Schools:**\n",
       "\n",
       "- Redmond\n",
       "  17272 NE 104th Street, Redmond 98052\n",
       "  Phone: 936-1800\n",
       "\n",
       "**Other Programs:**\n",
       "\n",
       "- Tesla STEM\n",
       "  4301 228th Ave NE, Redmond 98053\n",
       "  Phone: 936-2770\n",
       "\n",
       "- Transition Academy - Redmond\n",
       "  16315 NE 87th ST, Suite B-1, Redmond 98052\n",
       "  Phone: 861-3452\n",
       "\n",
       "Please note that for some schools such as Dickinson/Explorer, they share the same address but have different phone numbers."
      ],
      "text/plain": [
       "<IPython.core.display.Markdown object>"
      ]
     },
     "execution_count": 35,
     "metadata": {},
     "output_type": "execute_result"
    }
   ],
   "source": [
    "query = \"Redmond school location and phone number?\"\n",
    "result = conversation_chain({\"question\": query})\n",
    "answer = result[\"answer\"]\n",
    "answer\n",
    "Markdown(answer)"
   ]
  },
  {
   "cell_type": "code",
   "execution_count": null,
   "metadata": {},
   "outputs": [],
   "source": [
    "query = \"List all the schools in Redmond in pointers\"\n",
    "result = conversation_chain({\"question\": query})\n",
    "answer = result[\"answer\"]\n",
    "answer\n",
    "Markdown(answer)"
   ]
  },
  {
   "cell_type": "code",
   "execution_count": 36,
   "metadata": {},
   "outputs": [
    {
     "data": {
      "text/markdown": [
       "The schools in Redmond that start with the letter \"F\" are:\n",
       "\n",
       "1. Finn Hill Middle School\n",
       "   Location: 8040 NE 132nd Street, Kirkland 98034 (Finn Hill is within the Lake Washington School District and serves the Redmond area, but is physically located in Kirkland.)\n",
       "   Phone Number: 936-2340\n",
       "\n",
       "2. Frost Elementary School\n",
       "   Location: 11801 NE 140th Street, Kirkland 98034 (Frost is within the Lake Washington School District and serves the Redmond area, but is physically located in Kirkland.)\n",
       "   Phone Number: 936-2560\n",
       "\n",
       "3. Futures School\n",
       "   Location: 10601 NE 132nd Street, Kirkland 98034 (Futures School is within the Lake Washington School District and serves the Redmond area, but is physically located in Kirkland.)\n",
       "   Phone Number: 936-1635\n",
       "\n",
       "Please note that while these schools are part of the Lake Washington School District and may serve students in the Redmond area, their physical addresses are listed in Kirkland."
      ],
      "text/plain": [
       "<IPython.core.display.Markdown object>"
      ]
     },
     "execution_count": 36,
     "metadata": {},
     "output_type": "execute_result"
    }
   ],
   "source": [
    "query = \"List all the schools starting with letter F\"\n",
    "result = conversation_chain({\"question\": query})\n",
    "answer = result[\"answer\"]\n",
    "answer\n",
    "Markdown(answer)"
   ]
  }
 ],
 "metadata": {
  "kernelspec": {
   "display_name": "Python 3",
   "language": "python",
   "name": "python3"
  },
  "language_info": {
   "codemirror_mode": {
    "name": "ipython",
    "version": 3
   },
   "file_extension": ".py",
   "mimetype": "text/x-python",
   "name": "python",
   "nbconvert_exporter": "python",
   "pygments_lexer": "ipython3",
   "version": "3.12.0 (v3.12.0:0fb18b02c8, Oct  2 2023, 09:45:56) [Clang 13.0.0 (clang-1300.0.29.30)]"
  },
  "orig_nbformat": 4,
  "vscode": {
   "interpreter": {
    "hash": "aee8b7b246df8f9039afb4144a1f6fd8d2ca17a180786b69acc140d282b71a49"
   }
  }
 },
 "nbformat": 4,
 "nbformat_minor": 2
}
